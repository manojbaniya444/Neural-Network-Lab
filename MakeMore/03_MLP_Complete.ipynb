{
 "cells": [
  {
   "cell_type": "markdown",
   "metadata": {},
   "source": [
    "## Complete MLP Training"
   ]
  },
  {
   "cell_type": "code",
   "execution_count": 1,
   "metadata": {},
   "outputs": [],
   "source": [
    "import torch\n",
    "import torch.nn.functional as F\n",
    "import matplotlib.pyplot as plt"
   ]
  },
  {
   "cell_type": "code",
   "execution_count": 2,
   "metadata": {},
   "outputs": [
    {
     "data": {
      "text/plain": [
       "['emma', 'olivia', 'ava', 'isabella', 'sophia']"
      ]
     },
     "execution_count": 2,
     "metadata": {},
     "output_type": "execute_result"
    }
   ],
   "source": [
    "words = open(\"names.txt\", \"r\").read().split(\"\\n\")\n",
    "words[:5]"
   ]
  },
  {
   "cell_type": "code",
   "execution_count": 3,
   "metadata": {},
   "outputs": [
    {
     "data": {
      "text/plain": [
       "32033"
      ]
     },
     "execution_count": 3,
     "metadata": {},
     "output_type": "execute_result"
    }
   ],
   "source": [
    "len(words)"
   ]
  },
  {
   "cell_type": "code",
   "execution_count": 4,
   "metadata": {},
   "outputs": [],
   "source": [
    "# building vocabulary\n",
    "chars = sorted(list(set(\"\".join(words))))\n",
    "stoi = {char: i+1 for i, char in enumerate(chars)}\n",
    "stoi[\".\"] = 0\n",
    "itos = {i: char for char, i in stoi.items()}"
   ]
  },
  {
   "cell_type": "code",
   "execution_count": 5,
   "metadata": {},
   "outputs": [],
   "source": [
    "vocab_size = len(stoi)"
   ]
  },
  {
   "cell_type": "code",
   "execution_count": 6,
   "metadata": {},
   "outputs": [],
   "source": [
    "# dataset\n",
    "block_size = 3 # our context window \n",
    "\n",
    "def build_dataset(words: list):\n",
    "    X, Y = [], []\n",
    "    \n",
    "    for w in words:\n",
    "        context = [0] * block_size\n",
    "        for ch in w + \".\":\n",
    "            ix = stoi[ch]\n",
    "            X.append(context)\n",
    "            Y.append(ix)\n",
    "            context = context[1:] + [ix]\n",
    "            \n",
    "    X = torch.tensor(X)\n",
    "    Y = torch.tensor(Y)\n",
    "    print(X.shape, Y.shape)\n",
    "    return X, Y"
   ]
  },
  {
   "cell_type": "code",
   "execution_count": 7,
   "metadata": {},
   "outputs": [
    {
     "name": "stdout",
     "output_type": "stream",
     "text": [
      "torch.Size([182481, 3]) torch.Size([182481])\n",
      "torch.Size([22849, 3]) torch.Size([22849])\n",
      "torch.Size([22816, 3]) torch.Size([22816])\n"
     ]
    }
   ],
   "source": [
    "# create train, test and validation dataset split\n",
    "import random\n",
    "random.seed(2)\n",
    "random.shuffle(words)\n",
    "n1 = int(0.8*len(words))\n",
    "n2 = int(0.9*len(words))\n",
    "\n",
    "Xtr, Ytr = build_dataset(words[:n1])\n",
    "Xva, Yva = build_dataset(words[n1:n2])\n",
    "Xte, Yte = build_dataset(words[n2:])"
   ]
  },
  {
   "cell_type": "code",
   "execution_count": 8,
   "metadata": {},
   "outputs": [
    {
     "name": "stdout",
     "output_type": "stream",
     "text": [
      "11897\n"
     ]
    }
   ],
   "source": [
    "# MLP model\n",
    "\n",
    "n_embed = 10 # embedding dimension\n",
    "n_hidden = 200 # number of hidden neuron\n",
    "\n",
    "C = torch.randn((vocab_size, n_embed)) # embedding matrix for all vocab with embedding dim hidden size\n",
    "W1 = torch.randn((n_embed*block_size, n_hidden)) # weight matrix of input layer to hidden layer\n",
    "# input_dim: n_embed*block_size i.e 10*3 = 30\n",
    "b1 = torch.randn((n_hidden,)) # bias of hidden layer 1\n",
    "W2 = torch.randn((n_hidden, vocab_size)) # weight matrix of hidden layer to output layer\n",
    "b2 = torch.randn((vocab_size,)) # bias of output layer\n",
    "\n",
    "parameters = [C, W1, b1, W2, b2]\n",
    "\n",
    "print(sum(p.numel() for p in parameters))\n"
   ]
  },
  {
   "cell_type": "code",
   "execution_count": 9,
   "metadata": {},
   "outputs": [],
   "source": [
    "for p in parameters:\n",
    "    p.requires_grad = True"
   ]
  },
  {
   "cell_type": "code",
   "execution_count": 10,
   "metadata": {},
   "outputs": [
    {
     "data": {
      "text/plain": [
       "tensor([9, 6])"
      ]
     },
     "execution_count": 10,
     "metadata": {},
     "output_type": "execute_result"
    }
   ],
   "source": [
    "torch.randint(0,10, (2,))"
   ]
  },
  {
   "cell_type": "code",
   "execution_count": 11,
   "metadata": {},
   "outputs": [
    {
     "name": "stdout",
     "output_type": "stream",
     "text": [
      "0/30000 and Error: 23.799198150634766\n",
      "1000/30000 and Error: 4.048347473144531\n",
      "2000/30000 and Error: 3.2066242694854736\n",
      "3000/30000 and Error: 3.354234218597412\n",
      "4000/30000 and Error: 3.468254804611206\n",
      "5000/30000 and Error: 2.731295108795166\n",
      "6000/30000 and Error: 2.6358001232147217\n",
      "7000/30000 and Error: 2.4683034420013428\n",
      "8000/30000 and Error: 2.512857675552368\n",
      "9000/30000 and Error: 2.194101095199585\n",
      "10000/30000 and Error: 2.302581787109375\n",
      "11000/30000 and Error: 2.969092845916748\n",
      "12000/30000 and Error: 2.509819746017456\n",
      "13000/30000 and Error: 2.858711004257202\n",
      "14000/30000 and Error: 2.5485758781433105\n",
      "15000/30000 and Error: 1.9805362224578857\n",
      "16000/30000 and Error: 2.586013078689575\n",
      "17000/30000 and Error: 2.32790470123291\n",
      "18000/30000 and Error: 2.330793857574463\n",
      "19000/30000 and Error: 2.2033889293670654\n",
      "20000/30000 and Error: 2.642727851867676\n",
      "21000/30000 and Error: 2.2507805824279785\n",
      "22000/30000 and Error: 2.6600866317749023\n",
      "23000/30000 and Error: 2.5354223251342773\n",
      "24000/30000 and Error: 2.0783445835113525\n",
      "25000/30000 and Error: 2.1006715297698975\n",
      "26000/30000 and Error: 1.9846640825271606\n",
      "27000/30000 and Error: 2.1593918800354004\n",
      "28000/30000 and Error: 2.65549373626709\n",
      "29000/30000 and Error: 2.1590077877044678\n"
     ]
    }
   ],
   "source": [
    "# optimization\n",
    "\n",
    "max_step = 30000\n",
    "batch_size = 32\n",
    "lossi = []\n",
    "\n",
    "for i in range(max_step):\n",
    "    # minibatch\n",
    "    ix = torch.randint(0, len(Ytr), (batch_size,))\n",
    "    Xb, Yb = Xtr[ix], Ytr[ix]\n",
    "    \n",
    "    # forward propagation\n",
    "    emb = C[Xb] # embedding\n",
    "    embcat = emb.view(emb.shape[0], -1)\n",
    "    hpreact = embcat @ W1 + b1 # hidden layer preactivation\n",
    "    h = torch.tanh(hpreact) # hidden layer activation\n",
    "    logits = h @ W2 + b2 # output layer\n",
    "    loss = F.cross_entropy(logits, Yb)\n",
    "    \n",
    "    # backward propagation\n",
    "    for p in parameters:\n",
    "        p.grad = None\n",
    "    \n",
    "    loss.backward()\n",
    "    \n",
    "    # gradient descent\n",
    "    lr = 0.01 if i > 15000 else 0.1\n",
    "    for p in parameters:\n",
    "        p.data += p.grad * -lr\n",
    "    \n",
    "    # track error\n",
    "    if i % 1000 == 0:\n",
    "        print(f\"{i}/{max_step} and Error: {loss.item()}\")\n",
    "    lossi.append(loss.log10().item())"
   ]
  },
  {
   "cell_type": "markdown",
   "metadata": {},
   "source": [
    "Here we get the loss value at the start `26.99` error. At initialization and rapidly comes to `2`. We can expect to see a loss that we calculate."
   ]
  },
  {
   "cell_type": "code",
   "execution_count": 12,
   "metadata": {},
   "outputs": [
    {
     "data": {
      "text/plain": [
       "tensor(3.2958)"
      ]
     },
     "execution_count": 12,
     "metadata": {},
     "output_type": "execute_result"
    }
   ],
   "source": [
    "probability_of_one_word = torch.tensor(1/27)\n",
    "log_probability_of_one_word = probability_of_one_word.log()\n",
    "loss_expected_value = -log_probability_of_one_word\n",
    "loss_expected_value # we expect to see 3.29"
   ]
  },
  {
   "cell_type": "code",
   "execution_count": 13,
   "metadata": {},
   "outputs": [
    {
     "data": {
      "text/plain": [
       "(tensor([0.2500, 0.2500, 0.2500, 0.2500]), tensor(1.3863))"
      ]
     },
     "execution_count": 13,
     "metadata": {},
     "output_type": "execute_result"
    }
   ],
   "source": [
    "probs = torch.tensor([0.0, 0.0, 0.0, 0.0]) # for 4 words logits of nn with low prediction probability\n",
    "probs = F.softmax(probs, dim=0) # get the prob\n",
    "loss = -probs[2].log() # if the label is 2\n",
    "probs, loss # we record 1.383 for 0.0 probability"
   ]
  },
  {
   "cell_type": "code",
   "execution_count": 14,
   "metadata": {},
   "outputs": [
    {
     "data": {
      "text/plain": [
       "(tensor([0.0066, 0.9802, 0.0066, 0.0066]), tensor(0.0200), tensor(5.0200))"
      ]
     },
     "execution_count": 14,
     "metadata": {},
     "output_type": "execute_result"
    }
   ],
   "source": [
    "probs = torch.tensor([0.0, 5.0, 0.0, 0.0]) # for 4 words logits of nn with low prediction probability\n",
    "probs = F.softmax(probs, dim=0) # get the prob\n",
    "loss = -probs[1].log() # if the label is 1 then we get 0.02 error\n",
    "loss2 = -probs[0].log() # if the label is 0 then we get 5.0 error\n",
    "probs, loss, loss2 # because if the prob is 0the index but have low prob on output then we get high error"
   ]
  },
  {
   "cell_type": "code",
   "execution_count": 15,
   "metadata": {},
   "outputs": [
    {
     "data": {
      "text/plain": [
       "[<matplotlib.lines.Line2D at 0x1b6615f6930>]"
      ]
     },
     "execution_count": 15,
     "metadata": {},
     "output_type": "execute_result"
    },
    {
     "data": {
      "image/png": "[encoded data removed]",
      "text/plain": [
       "<Figure size 640x480 with 1 Axes>"
      ]
     },
     "metadata": {},
     "output_type": "display_data"
    }
   ],
   "source": [
    "plt.plot(lossi)"
   ]
  },
  {
   "cell_type": "code",
   "execution_count": 16,
   "metadata": {},
   "outputs": [
    {
     "name": "stdout",
     "output_type": "stream",
     "text": [
      "train 2.26721453666687\n",
      "validation 2.3110876083374023\n"
     ]
    }
   ],
   "source": [
    "@torch.no_grad()\n",
    "def split_loss(split):\n",
    "    x, y = {\n",
    "        \"train\": (Xtr, Ytr),\n",
    "        \"validation\": (Xva, Yva),\n",
    "        \"test\": (Xte, Yte)\n",
    "    }[split]\n",
    "    emb = C[x]\n",
    "    embcat = emb.view(emb.shape[0], -1)\n",
    "    hpreact = embcat @ W1 + b1\n",
    "    h = torch.tanh(hpreact)\n",
    "    logits = h @ W2 + b2\n",
    "    loss = F.cross_entropy(logits, y)\n",
    "    print(split, loss.item())\n",
    "    \n",
    "split_loss(\"train\")\n",
    "split_loss(\"validation\")"
   ]
  },
  {
   "cell_type": "code",
   "execution_count": 17,
   "metadata": {},
   "outputs": [
    {
     "data": {
      "text/plain": [
       "tensor([[1, 2, 3]])"
      ]
     },
     "execution_count": 17,
     "metadata": {},
     "output_type": "execute_result"
    }
   ],
   "source": [
    "torch.tensor([[1,2,3]])"
   ]
  },
  {
   "cell_type": "code",
   "execution_count": 18,
   "metadata": {},
   "outputs": [
    {
     "data": {
      "text/plain": [
       "torch.Size([1, 3, 10])"
      ]
     },
     "execution_count": 18,
     "metadata": {},
     "output_type": "execute_result"
    }
   ],
   "source": [
    "C[torch.tensor([[1,2,3]])].shape"
   ]
  },
  {
   "cell_type": "code",
   "execution_count": 19,
   "metadata": {},
   "outputs": [
    {
     "data": {
      "text/plain": [
       "torch.Size([1, 3, 10])"
      ]
     },
     "execution_count": 19,
     "metadata": {},
     "output_type": "execute_result"
    }
   ],
   "source": [
    "C[[[[0,0,0]]]].shape"
   ]
  },
  {
   "cell_type": "code",
   "execution_count": 20,
   "metadata": {},
   "outputs": [
    {
     "name": "stdout",
     "output_type": "stream",
     "text": [
      "rery.\n",
      "akamtharmineea.\n",
      "ruka.\n",
      "isejilancaja.\n",
      "jolo.\n",
      "abdaka.\n",
      "adi.\n",
      "las.\n",
      "samri.\n",
      "emaise.\n",
      "anyalee.\n",
      "elwa.\n",
      "tecne.\n",
      "xyce.\n",
      "dilikeshionalilon.\n"
     ]
    }
   ],
   "source": [
    "# sample from the model\n",
    "for _ in range(15):\n",
    "    out = []\n",
    "    context = [0] * block_size\n",
    "    while True:\n",
    "        emb = C[torch.tensor([context])] # (1, block_size, n_embed)\n",
    "        h = torch.tanh(emb.view(1, -1) @ W1 + b1) # (1, n_hidden)\n",
    "        logits = h @ W2 + b2\n",
    "        probs = F.softmax(logits, dim=1)\n",
    "        # sample from the distribution\n",
    "        ix = torch.multinomial(probs, 1).item()\n",
    "        # shift the context window and track the samples\n",
    "        context = context[1:] + [ix]\n",
    "        out.append(ix)\n",
    "        # terminate if stop token predicted\n",
    "        if ix == 0:\n",
    "            break\n",
    "        \n",
    "    print(\"\".join([itos[ix] for ix in out]))"
   ]
  },
  {
   "cell_type": "markdown",
   "metadata": {},
   "source": [
    "Why high error at step 1 then suddenly drop to 0 : due to wrong initialization"
   ]
  },
  {
   "cell_type": "code",
   "execution_count": 21,
   "metadata": {},
   "outputs": [
    {
     "name": "stdout",
     "output_type": "stream",
     "text": [
      "11897\n"
     ]
    }
   ],
   "source": [
    "# MLP model\n",
    "\n",
    "n_embed = 10 # embedding dimension\n",
    "n_hidden = 200 # number of hidden neuron\n",
    "\n",
    "C = torch.randn((vocab_size, n_embed)) # embedding matrix for all vocab with embedding dim hidden size\n",
    "W1 = torch.randn((n_embed*block_size, n_hidden)) # weight matrix of input layer to hidden layer\n",
    "# input_dim: n_embed*block_size i.e 10*3 = 30\n",
    "b1 = torch.randn((n_hidden,)) # bias of hidden layer 1\n",
    "W2 = torch.randn((n_hidden, vocab_size)) * 0.1 # scale down the weight matrix\n",
    "b2 = torch.randn((vocab_size,)) * 0 # 0 at initialization\n",
    "\n",
    "parameters = [C, W1, b1, W2, b2]\n",
    "\n",
    "print(sum(p.numel() for p in parameters))\n"
   ]
  },
  {
   "cell_type": "code",
   "execution_count": 22,
   "metadata": {},
   "outputs": [],
   "source": [
    "for p in parameters:\n",
    "    p.requires_grad = True"
   ]
  },
  {
   "cell_type": "code",
   "execution_count": 23,
   "metadata": {},
   "outputs": [
    {
     "name": "stdout",
     "output_type": "stream",
     "text": [
      "0/30000 and Error: 3.7655014991760254\n",
      "1000/30000 and Error: 2.5725743770599365\n",
      "2000/30000 and Error: 2.4531776905059814\n",
      "3000/30000 and Error: 2.2848236560821533\n",
      "4000/30000 and Error: 2.4950947761535645\n",
      "5000/30000 and Error: 2.400466203689575\n",
      "6000/30000 and Error: 2.323908567428589\n",
      "7000/30000 and Error: 2.584913969039917\n",
      "8000/30000 and Error: 1.993933916091919\n",
      "9000/30000 and Error: 2.3325695991516113\n",
      "10000/30000 and Error: 2.5771191120147705\n",
      "11000/30000 and Error: 2.5760953426361084\n",
      "12000/30000 and Error: 2.445796012878418\n",
      "13000/30000 and Error: 2.120861291885376\n",
      "14000/30000 and Error: 2.2511537075042725\n",
      "15000/30000 and Error: 2.3004024028778076\n",
      "16000/30000 and Error: 2.567549705505371\n",
      "17000/30000 and Error: 1.708171010017395\n",
      "18000/30000 and Error: 1.7054909467697144\n",
      "19000/30000 and Error: 1.9544568061828613\n",
      "20000/30000 and Error: 2.351945400238037\n",
      "21000/30000 and Error: 2.206735134124756\n",
      "22000/30000 and Error: 2.2062034606933594\n",
      "23000/30000 and Error: 2.216548442840576\n",
      "24000/30000 and Error: 2.57685923576355\n",
      "25000/30000 and Error: 2.3766956329345703\n",
      "26000/30000 and Error: 2.449348211288452\n",
      "27000/30000 and Error: 2.2077646255493164\n",
      "28000/30000 and Error: 1.7204645872116089\n",
      "29000/30000 and Error: 1.764979362487793\n"
     ]
    }
   ],
   "source": [
    "\n",
    "# optimization\n",
    "\n",
    "max_step = 30000\n",
    "batch_size = 32\n",
    "lossi = []\n",
    "\n",
    "for i in range(max_step):\n",
    "    # minibatch\n",
    "    ix = torch.randint(0, len(Ytr), (batch_size,))\n",
    "    Xb, Yb = Xtr[ix], Ytr[ix]\n",
    "    \n",
    "    # forward propagation\n",
    "    emb = C[Xb] # embedding\n",
    "    embcat = emb.view(emb.shape[0], -1)\n",
    "    hpreact = embcat @ W1 + b1 # hidden layer preactivation\n",
    "    h = torch.tanh(hpreact) # hidden layer activation\n",
    "    logits = h @ W2 + b2 # output layer\n",
    "    loss = F.cross_entropy(logits, Yb)\n",
    "    \n",
    "    # backward propagation\n",
    "    for p in parameters:\n",
    "        p.grad = None\n",
    "    \n",
    "    loss.backward()\n",
    "    \n",
    "    # gradient descent\n",
    "    lr = 0.01 if i > 15000 else 0.1\n",
    "    for p in parameters:\n",
    "        p.data += p.grad * -lr\n",
    "    \n",
    "    # track error\n",
    "    if i % 1000 == 0:\n",
    "        print(f\"{i}/{max_step} and Error: {loss.item()}\")\n",
    "    lossi.append(loss.log10().item())"
   ]
  },
  {
   "cell_type": "markdown",
   "metadata": {},
   "source": [
    "Here after initializing the weight and bias a bit differently we got starting error `3.62` which is like what we have expected"
   ]
  },
  {
   "cell_type": "code",
   "execution_count": 24,
   "metadata": {},
   "outputs": [
    {
     "data": {
      "text/plain": [
       "[<matplotlib.lines.Line2D at 0x1b662307110>]"
      ]
     },
     "execution_count": 24,
     "metadata": {},
     "output_type": "execute_result"
    },
    {
     "data": {
      "image/png": "[encoded data removed]",
      "text/plain": [
       "<Figure size 640x480 with 1 Axes>"
      ]
     },
     "metadata": {},
     "output_type": "display_data"
    }
   ],
   "source": [
    "plt.plot(lossi)"
   ]
  },
  {
   "cell_type": "markdown",
   "metadata": {},
   "source": [
    "Now plot of the error donot have hat hockey"
   ]
  },
  {
   "cell_type": "code",
   "execution_count": 25,
   "metadata": {},
   "outputs": [
    {
     "data": {
      "text/plain": [
       "(array([  16.,   77.,  307.,  883., 1518., 1436.,  845.,  249.,   59.,\n",
       "          10.]),\n",
       " array([-0.49760884, -0.3958312 , -0.29405352, -0.19227588, -0.09049822,\n",
       "         0.01127943,  0.11305709,  0.21483475,  0.31661239,  0.41839007,\n",
       "         0.52016771]),\n",
       " <BarContainer object of 10 artists>)"
      ]
     },
     "execution_count": 25,
     "metadata": {},
     "output_type": "execute_result"
    },
    {
     "data": {
      "image/png": "[encoded data removed]",
      "text/plain": [
       "<Figure size 640x480 with 1 Axes>"
      ]
     },
     "metadata": {},
     "output_type": "display_data"
    }
   ],
   "source": [
    "plt.hist(W2.flatten().detach().numpy(), bins=10)"
   ]
  },
  {
   "cell_type": "code",
   "execution_count": 26,
   "metadata": {},
   "outputs": [
    {
     "data": {
      "text/plain": [
       "(array([2339.,  176.,   69.,   71.,   44.,   58.,   48.,   30.,   23.,\n",
       "          56.,   25.,   31.,   10.,   15.,   21.,   12.,   12.,   33.,\n",
       "          23.,   28.,   10.,   20.,   23.,   21.,   17.,   14.,   15.,\n",
       "          25.,   18.,   18.,    9.,   23.,   38.,   13.,    9.,   19.,\n",
       "          26.,   32.,   28.,   32.,   22.,   29.,   39.,   33.,   57.,\n",
       "          53.,   82.,  106.,  137., 2308.]),\n",
       " array([-1.  , -0.96, -0.92, -0.88, -0.84, -0.8 , -0.76, -0.72, -0.68,\n",
       "        -0.64, -0.6 , -0.56, -0.52, -0.48, -0.44, -0.4 , -0.36, -0.32,\n",
       "        -0.28, -0.24, -0.2 , -0.16, -0.12, -0.08, -0.04,  0.  ,  0.04,\n",
       "         0.08,  0.12,  0.16,  0.2 ,  0.24,  0.28,  0.32,  0.36,  0.4 ,\n",
       "         0.44,  0.48,  0.52,  0.56,  0.6 ,  0.64,  0.68,  0.72,  0.76,\n",
       "         0.8 ,  0.84,  0.88,  0.92,  0.96,  1.  ]),\n",
       " <BarContainer object of 50 artists>)"
      ]
     },
     "execution_count": 26,
     "metadata": {},
     "output_type": "execute_result"
    },
    {
     "data": {
      "image/png": "[encoded data removed]",
      "text/plain": [
       "<Figure size 640x480 with 1 Axes>"
      ]
     },
     "metadata": {},
     "output_type": "display_data"
    }
   ],
   "source": [
    "plt.hist(h.view(-1).tolist(), 50)"
   ]
  },
  {
   "cell_type": "markdown",
   "metadata": {},
   "source": [
    "Here in the hidden activation due to `tanh` we have most of the values at `-1.0` and `1.0`. because of the preactivation value close to `0 and 1` we will get such output from hidden layer and due to which gradient will be destroyed here."
   ]
  },
  {
   "cell_type": "code",
   "execution_count": 27,
   "metadata": {},
   "outputs": [
    {
     "data": {
      "text/plain": [
       "<matplotlib.image.AxesImage at 0x1b66164d340>"
      ]
     },
     "execution_count": 27,
     "metadata": {},
     "output_type": "execute_result"
    },
    {
     "data": {
      "image/png": "[encoded data removed]",
      "text/plain": [
       "<Figure size 2000x1000 with 1 Axes>"
      ]
     },
     "metadata": {},
     "output_type": "display_data"
    }
   ],
   "source": [
    "plt.figure(figsize=(20,10))\n",
    "plt.imshow(h.abs() > 0.99, cmap=\"gray\", interpolation=\"nearest\")"
   ]
  },
  {
   "cell_type": "markdown",
   "metadata": {},
   "source": [
    "white pixel shows that the values are in the flat region of tanh i.e near to -1 and -1. so from here we can say all these tanh neurons are active and we will be in trouble if entire column are white which is `dead neuron` that is no single example ever activate that neuron and if neuron is at tail it will not learn anything.\n",
    "\n",
    "Not learn means **tanh** fires -1 and 1 completely and due to which neuron will not learn anything because gradient will not flow.\n",
    "\n",
    "This is not the case for only **tanh** but for other `non linear activation` also.\n",
    "\n",
    "`**ReLU*` has a completely flat region below `x below 0` and `a dead ReLU` neuron may occur when it never turns on because the input it get is less than 0."
   ]
  },
  {
   "cell_type": "markdown",
   "metadata": {},
   "source": [
    "Sometimes during `optimization` due to `high learning rate` neuron might get `high gradient` and gets `knocked out` and will fall into the region where `zero learning` happen. as in the `ReLU and tanh` case mentioned above."
   ]
  },
  {
   "cell_type": "markdown",
   "metadata": {},
   "source": [
    "so these are the things we need to take care of \n",
    "- be careful of **preactivations**\n",
    "- watch out **gradients**"
   ]
  },
  {
   "cell_type": "code",
   "execution_count": 28,
   "metadata": {},
   "outputs": [
    {
     "data": {
      "text/plain": [
       "(array([  1.,   1.,   0.,   0.,   0.,   1.,   1.,   2.,   3.,   2.,  10.,\n",
       "         11.,  10.,  20.,  35.,  36.,  82.,  69.,  86., 114., 150., 231.,\n",
       "        260., 277., 300., 362., 367., 397., 413., 414., 414., 355., 355.,\n",
       "        308., 250., 255., 176., 161., 122., 101.,  70.,  36.,  48.,  32.,\n",
       "         25.,  17.,   8.,   7.,   1.,   4.]),\n",
       " array([-26.51917648, -25.60236088, -24.68554527, -23.76872967,\n",
       "        -22.85191406, -21.93509846, -21.01828285, -20.10146725,\n",
       "        -19.18465164, -18.26783604, -17.35102043, -16.43420483,\n",
       "        -15.51738922, -14.60057362, -13.68375801, -12.76694241,\n",
       "        -11.8501268 , -10.9333112 , -10.01649559,  -9.09967999,\n",
       "         -8.18286438,  -7.26604877,  -6.34923317,  -5.43241756,\n",
       "         -4.51560196,  -3.59878635,  -2.68197075,  -1.76515514,\n",
       "         -0.84833954,   0.06847607,   0.98529167,   1.90210728,\n",
       "          2.81892288,   3.73573849,   4.65255409,   5.5693697 ,\n",
       "          6.4861853 ,   7.40300091,   8.31981651,   9.23663212,\n",
       "         10.15344772,  11.07026333,  11.98707893,  12.90389454,\n",
       "         13.82071014,  14.73752575,  15.65434135,  16.57115696,\n",
       "         17.48797256,  18.40478817,  19.32160378]),\n",
       " <BarContainer object of 50 artists>)"
      ]
     },
     "execution_count": 28,
     "metadata": {},
     "output_type": "execute_result"
    },
    {
     "data": {
      "image/png": "[encoded data removed]",
      "text/plain": [
       "<Figure size 640x480 with 1 Axes>"
      ]
     },
     "metadata": {},
     "output_type": "display_data"
    }
   ],
   "source": [
    "plt.hist(hpreact.view(-1).tolist(), 50)"
   ]
  },
  {
   "cell_type": "markdown",
   "metadata": {},
   "source": [
    "Preactivation has `normal distribution`"
   ]
  },
  {
   "cell_type": "markdown",
   "metadata": {},
   "source": [
    "Weight Initialization"
   ]
  },
  {
   "cell_type": "code",
   "execution_count": 29,
   "metadata": {},
   "outputs": [
    {
     "name": "stdout",
     "output_type": "stream",
     "text": [
      "11897\n"
     ]
    }
   ],
   "source": [
    "# MLP revisited\n",
    "n_embd = 10 # the dimensionality of the character embedding vectors\n",
    "n_hidden = 200 # the number of neurons in the hidden layer of the MLP\n",
    "\n",
    "g = torch.Generator().manual_seed(2147483647) # for reproducibility\n",
    "C  = torch.randn((vocab_size, n_embd),            generator=g)\n",
    "W1 = torch.randn((n_embd * block_size, n_hidden), generator=g) * 0.1\n",
    "b1 = torch.randn(n_hidden,                        generator=g) * 0.01\n",
    "W2 = torch.randn((n_hidden, vocab_size),          generator=g) * 0.01\n",
    "b2 = torch.randn(vocab_size,                      generator=g) * 0\n",
    "\n",
    "parameters = [C, W1, W2, b1, b2]\n",
    "print(sum(p.nelement() for p in parameters)) # number of parameters in total\n",
    "\n",
    "for p in parameters:\n",
    "  p.requires_grad = True"
   ]
  },
  {
   "cell_type": "code",
   "execution_count": 30,
   "metadata": {},
   "outputs": [
    {
     "name": "stdout",
     "output_type": "stream",
     "text": [
      "0/30000 and Error: 3.2988858222961426\n"
     ]
    }
   ],
   "source": [
    "# optimization\n",
    "\n",
    "max_step = 30000\n",
    "batch_size = 32\n",
    "lossi = []\n",
    "\n",
    "for i in range(max_step):\n",
    "    # minibatch\n",
    "    ix = torch.randint(0, len(Ytr), (batch_size,))\n",
    "    Xb, Yb = Xtr[ix], Ytr[ix]\n",
    "    \n",
    "    # forward propagation\n",
    "    emb = C[Xb] # embedding\n",
    "    embcat = emb.view(emb.shape[0], -1)\n",
    "    hpreact = embcat @ W1 + b1 # hidden layer preactivation\n",
    "    h = torch.tanh(hpreact) # hidden layer activation\n",
    "    logits = h @ W2 + b2 # output layer\n",
    "    loss = F.cross_entropy(logits, Yb)\n",
    "    \n",
    "    # backward propagation\n",
    "    for p in parameters:\n",
    "        p.grad = None\n",
    "    \n",
    "    loss.backward()\n",
    "    \n",
    "    # gradient descent\n",
    "    lr = 0.01 if i > 1500 else 0.1\n",
    "    for p in parameters:\n",
    "        p.data += p.grad * -lr\n",
    "    \n",
    "    # track error\n",
    "    if i % 1000 == 0:\n",
    "        print(f\"{i}/{max_step} and Error: {loss.item()}\")\n",
    "    lossi.append(loss.log10().item())\n",
    "    break"
   ]
  },
  {
   "cell_type": "code",
   "execution_count": 31,
   "metadata": {},
   "outputs": [
    {
     "data": {
      "text/plain": [
       "(array([  1.,   1.,   1.,   2.,   5.,   3.,   6.,   9.,  14.,  10.,  29.,\n",
       "         47.,  62.,  59.,  86., 113., 146., 201., 216., 269., 302., 303.,\n",
       "        367., 422., 416., 398., 414., 371., 369., 308., 285., 255., 184.,\n",
       "        170., 136., 118.,  92.,  78.,  40.,  30.,  24.,  12.,   4.,   9.,\n",
       "          6.,   2.,   2.,   1.,   1.,   1.]),\n",
       " array([-2.12463284, -2.03955162, -1.9544704 , -1.86938918, -1.78430796,\n",
       "        -1.69922674, -1.61414552, -1.5290643 , -1.44398308, -1.35890186,\n",
       "        -1.27382064, -1.18873942, -1.1036582 , -1.01857698, -0.93349576,\n",
       "        -0.84841454, -0.76333332, -0.6782521 , -0.59317088, -0.50808966,\n",
       "        -0.42300844, -0.33792722, -0.252846  , -0.16776478, -0.08268356,\n",
       "         0.00239766,  0.08747888,  0.1725601 ,  0.25764132,  0.34272254,\n",
       "         0.42780375,  0.51288497,  0.59796619,  0.68304741,  0.76812863,\n",
       "         0.85320985,  0.93829107,  1.02337229,  1.10845351,  1.19353473,\n",
       "         1.27861595,  1.36369717,  1.44877839,  1.53385961,  1.61894083,\n",
       "         1.70402205,  1.78910327,  1.87418449,  1.95926571,  2.04434693,\n",
       "         2.12942815]),\n",
       " <BarContainer object of 50 artists>)"
      ]
     },
     "execution_count": 31,
     "metadata": {},
     "output_type": "execute_result"
    },
    {
     "data": {
      "image/png": "[encoded data removed]",
      "text/plain": [
       "<Figure size 640x480 with 1 Axes>"
      ]
     },
     "metadata": {},
     "output_type": "display_data"
    }
   ],
   "source": [
    "plt.hist(hpreact.view(-1).tolist(), 50)"
   ]
  },
  {
   "cell_type": "markdown",
   "metadata": {},
   "source": [
    "Preactivation is now between -1 and 1 so there are only few value which are at -1 and 1 so only those will not learn most of them are active"
   ]
  },
  {
   "cell_type": "code",
   "execution_count": 32,
   "metadata": {},
   "outputs": [
    {
     "data": {
      "text/plain": [
       "<matplotlib.image.AxesImage at 0x1b661429ca0>"
      ]
     },
     "execution_count": 32,
     "metadata": {},
     "output_type": "execute_result"
    },
    {
     "data": {
      "image/png": "[encoded data removed]",
      "text/plain": [
       "<Figure size 2000x1000 with 1 Axes>"
      ]
     },
     "metadata": {},
     "output_type": "display_data"
    }
   ],
   "source": [
    "plt.figure(figsize=(20,10))\n",
    "plt.imshow(h.abs() > 0.99, cmap=\"gray\", interpolation=\"nearest\")"
   ]
  },
  {
   "cell_type": "markdown",
   "metadata": {},
   "source": [
    "Here all neuron are active"
   ]
  },
  {
   "cell_type": "code",
   "execution_count": 33,
   "metadata": {},
   "outputs": [
    {
     "data": {
      "text/plain": [
       "(array([ 10.,  18.,  24.,  52.,  73.,  61.,  74.,  89., 111., 101., 139.,\n",
       "        131., 134., 140., 162., 164., 156., 142., 166., 182., 180., 199.,\n",
       "        185., 181., 199., 198., 172., 189., 188., 191., 189., 166., 183.,\n",
       "        160., 174., 162., 165., 155., 157., 121., 119., 119., 125., 101.,\n",
       "        104.,  76.,  51.,  33.,  20.,   9.]),\n",
       " array([-9.71852362e-01, -9.32972969e-01, -8.94093575e-01, -8.55214182e-01,\n",
       "        -8.16334789e-01, -7.77455395e-01, -7.38576002e-01, -6.99696609e-01,\n",
       "        -6.60817215e-01, -6.21937822e-01, -5.83058429e-01, -5.44179035e-01,\n",
       "        -5.05299642e-01, -4.66420249e-01, -4.27540855e-01, -3.88661462e-01,\n",
       "        -3.49782069e-01, -3.10902675e-01, -2.72023282e-01, -2.33143889e-01,\n",
       "        -1.94264495e-01, -1.55385102e-01, -1.16505709e-01, -7.76263154e-02,\n",
       "        -3.87469220e-02,  1.32471323e-04,  3.90118647e-02,  7.78912580e-02,\n",
       "         1.16770651e-01,  1.55650045e-01,  1.94529438e-01,  2.33408831e-01,\n",
       "         2.72288225e-01,  3.11167618e-01,  3.50047011e-01,  3.88926405e-01,\n",
       "         4.27805798e-01,  4.66685191e-01,  5.05564585e-01,  5.44443978e-01,\n",
       "         5.83323371e-01,  6.22202765e-01,  6.61082158e-01,  6.99961551e-01,\n",
       "         7.38840945e-01,  7.77720338e-01,  8.16599731e-01,  8.55479125e-01,\n",
       "         8.94358518e-01,  9.33237911e-01,  9.72117305e-01]),\n",
       " <BarContainer object of 50 artists>)"
      ]
     },
     "execution_count": 33,
     "metadata": {},
     "output_type": "execute_result"
    },
    {
     "data": {
      "image/png": "[encoded data removed]",
      "text/plain": [
       "<Figure size 640x480 with 1 Axes>"
      ]
     },
     "metadata": {},
     "output_type": "display_data"
    }
   ],
   "source": [
    "plt.hist(h.view(-1).tolist(), 50)"
   ]
  },
  {
   "cell_type": "markdown",
   "metadata": {},
   "source": [
    "our activation are between -1 and 1 as we want"
   ]
  },
  {
   "cell_type": "markdown",
   "metadata": {},
   "source": [
    "### what is the problem\n",
    "Even when we dont optimize initializing weights we were getting a generalization error just as equal after fixing saturating tanh value. This is because **shallow neural network** will learn easily because they are not complex but as we train **deeper neural networks** we might not get expected result."
   ]
  },
  {
   "cell_type": "markdown",
   "metadata": {},
   "source": [
    "## How to set appropriate initial weight"
   ]
  },
  {
   "cell_type": "code",
   "execution_count": 45,
   "metadata": {},
   "outputs": [
    {
     "name": "stdout",
     "output_type": "stream",
     "text": [
      "tensor(0.0048) tensor(1.0048)\n",
      "tensor(-0.0038) tensor(1.0102)\n"
     ]
    },
    {
     "data": {
      "image/png": "[encoded data removed]",
      "text/plain": [
       "<Figure size 2000x500 with 2 Axes>"
      ]
     },
     "metadata": {},
     "output_type": "display_data"
    }
   ],
   "source": [
    "x = torch.randn(100, 10) # gaussian distribution\n",
    "w = torch.randn(10, 200) / 10**0.5 # to make gaussian distribution\n",
    "y = x @ w\n",
    "print(x.mean(), x.std())\n",
    "print(y.mean(), y.std())\n",
    "plt.figure(figsize=(20, 5))\n",
    "plt.subplot(1, 2, 1)\n",
    "plt.hist(x.view(-1).tolist(), 50)\n",
    "plt.subplot(1, 2, 2)\n",
    "plt.hist(y.view(-1).tolist(), 50)\n",
    "plt.show()"
   ]
  },
  {
   "cell_type": "markdown",
   "metadata": {},
   "source": [
    "gain / sqrt of fan_in"
   ]
  },
  {
   "cell_type": "code",
   "execution_count": 46,
   "metadata": {},
   "outputs": [
    {
     "data": {
      "text/plain": [
       "0.3042903097250923"
      ]
     },
     "execution_count": 46,
     "metadata": {},
     "output_type": "execute_result"
    }
   ],
   "source": [
    "(5/3) / (30**0.5)"
   ]
  },
  {
   "cell_type": "code",
   "execution_count": 47,
   "metadata": {},
   "outputs": [
    {
     "name": "stdout",
     "output_type": "stream",
     "text": [
      "11897\n"
     ]
    }
   ],
   "source": [
    "# MLP revisited\n",
    "n_embd = 10 # the dimensionality of the character embedding vectors\n",
    "n_hidden = 200 # the number of neurons in the hidden layer of the MLP\n",
    "\n",
    "g = torch.Generator().manual_seed(2147483647) # for reproducibility\n",
    "C  = torch.randn((vocab_size, n_embd),            generator=g)\n",
    "W1 = torch.randn((n_embd * block_size, n_hidden), generator=g) * (5/3) / ((n_embd * block_size)**0.5)\n",
    "b1 = torch.randn(n_hidden,                        generator=g) * 0.01\n",
    "W2 = torch.randn((n_hidden, vocab_size),          generator=g) * 0.01\n",
    "b2 = torch.randn(vocab_size,                      generator=g) * 0\n",
    "\n",
    "parameters = [C, W1, W2, b1, b2]\n",
    "print(sum(p.nelement() for p in parameters)) # number of parameters in total\n",
    "\n",
    "for p in parameters:\n",
    "  p.requires_grad = True"
   ]
  },
  {
   "cell_type": "code",
   "execution_count": 48,
   "metadata": {},
   "outputs": [
    {
     "name": "stdout",
     "output_type": "stream",
     "text": [
      "0/30000 and Error: 3.313579797744751\n",
      "1000/30000 and Error: 2.3482093811035156\n",
      "2000/30000 and Error: 2.2295010089874268\n",
      "3000/30000 and Error: 2.127786159515381\n",
      "4000/30000 and Error: 2.639529228210449\n",
      "5000/30000 and Error: 2.2155227661132812\n",
      "6000/30000 and Error: 2.430901288986206\n",
      "7000/30000 and Error: 2.2111260890960693\n",
      "8000/30000 and Error: 2.5957300662994385\n",
      "9000/30000 and Error: 2.111637592315674\n",
      "10000/30000 and Error: 2.0876755714416504\n",
      "11000/30000 and Error: 2.2275238037109375\n",
      "12000/30000 and Error: 2.215092420578003\n",
      "13000/30000 and Error: 2.2170872688293457\n",
      "14000/30000 and Error: 2.3171260356903076\n",
      "15000/30000 and Error: 2.219909906387329\n",
      "16000/30000 and Error: 2.1075384616851807\n",
      "17000/30000 and Error: 2.183863639831543\n",
      "18000/30000 and Error: 2.536426544189453\n",
      "19000/30000 and Error: 1.9938007593154907\n",
      "20000/30000 and Error: 2.2122111320495605\n",
      "21000/30000 and Error: 2.343491554260254\n",
      "22000/30000 and Error: 2.0641934871673584\n",
      "23000/30000 and Error: 2.427732467651367\n",
      "24000/30000 and Error: 2.166640520095825\n",
      "25000/30000 and Error: 2.437652587890625\n",
      "26000/30000 and Error: 2.2407238483428955\n",
      "27000/30000 and Error: 2.3037986755371094\n",
      "28000/30000 and Error: 2.1498324871063232\n",
      "29000/30000 and Error: 2.231292247772217\n"
     ]
    }
   ],
   "source": [
    "# optimization\n",
    "\n",
    "max_step = 30000\n",
    "batch_size = 32\n",
    "lossi = []\n",
    "\n",
    "for i in range(max_step):\n",
    "    # minibatch\n",
    "    ix = torch.randint(0, len(Ytr), (batch_size,))\n",
    "    Xb, Yb = Xtr[ix], Ytr[ix]\n",
    "    \n",
    "    # forward propagation\n",
    "    emb = C[Xb] # embedding\n",
    "    embcat = emb.view(emb.shape[0], -1)\n",
    "    hpreact = embcat @ W1 + b1 # hidden layer preactivation\n",
    "    h = torch.tanh(hpreact) # hidden layer activation\n",
    "    logits = h @ W2 + b2 # output layer\n",
    "    loss = F.cross_entropy(logits, Yb)\n",
    "    \n",
    "    # backward propagation\n",
    "    for p in parameters:\n",
    "        p.grad = None\n",
    "    \n",
    "    loss.backward()\n",
    "    \n",
    "    # gradient descent\n",
    "    lr = 0.01 if i > 1500 else 0.1\n",
    "    for p in parameters:\n",
    "        p.data += p.grad * -lr\n",
    "    \n",
    "    # track error\n",
    "    if i % 1000 == 0:\n",
    "        print(f\"{i}/{max_step} and Error: {loss.item()}\")\n",
    "    lossi.append(loss.log10().item())"
   ]
  },
  {
   "cell_type": "markdown",
   "metadata": {},
   "source": [
    "## Batch Normalization"
   ]
  },
  {
   "cell_type": "code",
   "execution_count": 54,
   "metadata": {},
   "outputs": [
    {
     "name": "stdout",
     "output_type": "stream",
     "text": [
      "12297\n"
     ]
    }
   ],
   "source": [
    "# MLP revisited\n",
    "n_embd = 10 # the dimensionality of the character embedding vectors\n",
    "n_hidden = 200 # the number of neurons in the hidden layer of the MLP\n",
    "\n",
    "g = torch.Generator().manual_seed(2147483647) # for reproducibility\n",
    "C  = torch.randn((vocab_size, n_embd),            generator=g)\n",
    "W1 = torch.randn((n_embd * block_size, n_hidden), generator=g) * (5/3) / ((n_embd * block_size)**0.5)\n",
    "b1 = torch.randn(n_hidden,                        generator=g) * 0.01\n",
    "W2 = torch.randn((n_hidden, vocab_size),          generator=g) * 0.01\n",
    "b2 = torch.randn(vocab_size,                      generator=g) * 0\n",
    "\n",
    "bngain = torch.ones((1, n_hidden)) # batch normalization gain\n",
    "bnbias = torch.ones((1, n_hidden)) # batch normalization bias\n",
    "\n",
    "parameters = [C, W1, W2, b1, b2, bngain, bnbias]\n",
    "print(sum(p.nelement() for p in parameters)) # number of parameters in total\n",
    "\n",
    "for p in parameters:\n",
    "  p.requires_grad = True"
   ]
  },
  {
   "cell_type": "markdown",
   "metadata": {},
   "source": [
    "if we want gaussian distribution then why dont we take the hidden layer output and make it gaussian then?"
   ]
  },
  {
   "cell_type": "code",
   "execution_count": 51,
   "metadata": {},
   "outputs": [
    {
     "data": {
      "text/plain": [
       "torch.Size([1, 200])"
      ]
     },
     "execution_count": 51,
     "metadata": {},
     "output_type": "execute_result"
    }
   ],
   "source": [
    "hpreact.mean(0, keepdim=True).shape # mean over all elements in a batch"
   ]
  },
  {
   "cell_type": "code",
   "execution_count": 52,
   "metadata": {},
   "outputs": [
    {
     "data": {
      "text/plain": [
       "torch.Size([1, 200])"
      ]
     },
     "execution_count": 52,
     "metadata": {},
     "output_type": "execute_result"
    }
   ],
   "source": [
    "hpreact.std(0, keepdim=True).shape # std over all elements in a batch"
   ]
  },
  {
   "cell_type": "code",
   "execution_count": 56,
   "metadata": {},
   "outputs": [
    {
     "name": "stdout",
     "output_type": "stream",
     "text": [
      "0/30000 and Error: 2.079169273376465\n",
      "1000/30000 and Error: 2.325002670288086\n",
      "2000/30000 and Error: 1.9885456562042236\n",
      "3000/30000 and Error: 2.2175588607788086\n",
      "4000/30000 and Error: 2.478675603866577\n",
      "5000/30000 and Error: 2.1198956966400146\n",
      "6000/30000 and Error: 2.213047742843628\n",
      "7000/30000 and Error: 2.065531015396118\n",
      "8000/30000 and Error: 1.6902035474777222\n",
      "9000/30000 and Error: 2.4903135299682617\n",
      "10000/30000 and Error: 2.122081756591797\n",
      "11000/30000 and Error: 2.296205997467041\n",
      "12000/30000 and Error: 2.3208892345428467\n",
      "13000/30000 and Error: 2.2509610652923584\n",
      "14000/30000 and Error: 2.3483712673187256\n",
      "15000/30000 and Error: 2.5320866107940674\n",
      "16000/30000 and Error: 2.202446460723877\n",
      "17000/30000 and Error: 2.10074782371521\n",
      "18000/30000 and Error: 2.550647497177124\n",
      "19000/30000 and Error: 2.2800345420837402\n",
      "20000/30000 and Error: 2.0667507648468018\n",
      "21000/30000 and Error: 2.3246684074401855\n",
      "22000/30000 and Error: 2.6084580421447754\n",
      "23000/30000 and Error: 2.381523847579956\n",
      "24000/30000 and Error: 2.3407671451568604\n",
      "25000/30000 and Error: 2.3160011768341064\n",
      "26000/30000 and Error: 2.160256862640381\n",
      "27000/30000 and Error: 2.1986489295959473\n",
      "28000/30000 and Error: 2.2255115509033203\n",
      "29000/30000 and Error: 2.0566298961639404\n"
     ]
    }
   ],
   "source": [
    "# optimization\n",
    "\n",
    "max_step = 30000\n",
    "batch_size = 32\n",
    "lossi = []\n",
    "\n",
    "for i in range(max_step):\n",
    "    # minibatch\n",
    "    ix = torch.randint(0, len(Ytr), (batch_size,))\n",
    "    Xb, Yb = Xtr[ix], Ytr[ix]\n",
    "    \n",
    "    # forward propagation\n",
    "    emb = C[Xb] # embedding\n",
    "    embcat = emb.view(emb.shape[0], -1)\n",
    "    hpreact = embcat @ W1 + b1 # hidden layer preactivation\n",
    "    \n",
    "    hpreact = bngain * (hpreact - hpreact.mean(0, keepdim=True)) / hpreact.std(0, keepdim=True) + bnbias\n",
    "    \n",
    "    h = torch.tanh(hpreact) # hidden layer activation\n",
    "    logits = h @ W2 + b2 # output layer\n",
    "    loss = F.cross_entropy(logits, Yb)\n",
    "    \n",
    "    # backward propagation\n",
    "    for p in parameters:\n",
    "        p.grad = None\n",
    "    \n",
    "    loss.backward()\n",
    "    \n",
    "    # gradient descent\n",
    "    lr = 0.01 if i > 1500 else 0.1\n",
    "    for p in parameters:\n",
    "        p.data += p.grad * -lr\n",
    "    \n",
    "    # track error\n",
    "    if i % 1000 == 0:\n",
    "        print(f\"{i}/{max_step} and Error: {loss.item()}\")\n",
    "    lossi.append(loss.log10().item())"
   ]
  },
  {
   "cell_type": "markdown",
   "metadata": {},
   "source": [
    "inference time what to do"
   ]
  },
  {
   "cell_type": "code",
   "execution_count": 57,
   "metadata": {},
   "outputs": [],
   "source": [
    "with torch.no_grad():\n",
    "    emb = C[Xtr]\n",
    "    embcat = emb.view(emb.shape[0], -1)\n",
    "    hpreact = embcat @ W1 + b1\n",
    "    bnmean = hpreact.mean(0, keepdim=True)\n",
    "    bnstd = hpreact.std(0, keepdim=True)"
   ]
  },
  {
   "cell_type": "code",
   "execution_count": 58,
   "metadata": {},
   "outputs": [
    {
     "name": "stdout",
     "output_type": "stream",
     "text": [
      "train 2.2033002376556396\n",
      "validation 2.2232699394226074\n"
     ]
    }
   ],
   "source": [
    "@torch.no_grad()\n",
    "def split_loss(split):\n",
    "    x, y = {\n",
    "        \"train\": (Xtr, Ytr),\n",
    "        \"validation\": (Xva, Yva),\n",
    "        \"test\": (Xte, Yte)\n",
    "    }[split]\n",
    "    emb = C[x]\n",
    "    embcat = emb.view(emb.shape[0], -1)\n",
    "    hpreact = embcat @ W1 + b1\n",
    "    hpreact = bngain * (hpreact - bnmean) / bnstd + bnbias\n",
    "    h = torch.tanh(hpreact)\n",
    "    logits = h @ W2 + b2\n",
    "    loss = F.cross_entropy(logits, y)\n",
    "    print(split, loss.item())\n",
    "    \n",
    "split_loss(\"train\")\n",
    "split_loss(\"validation\")"
   ]
  }
 ],
 "metadata": {
  "kernelspec": {
   "display_name": "Python 3",
   "language": "python",
   "name": "python3"
  },
  "language_info": {
   "codemirror_mode": {
    "name": "ipython",
    "version": 3
   },
   "file_extension": ".py",
   "mimetype": "text/x-python",
   "name": "python",
   "nbconvert_exporter": "python",
   "pygments_lexer": "ipython3",
   "version": "3.12.1"
  }
 },
 "nbformat": 4,
 "nbformat_minor": 2
}
